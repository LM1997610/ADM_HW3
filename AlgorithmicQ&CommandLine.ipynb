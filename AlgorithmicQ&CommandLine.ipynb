{
 "cells": [
  {
   "cell_type": "markdown",
   "id": "68e0d42b-85e6-47d5-9e02-2217242cb15a",
   "metadata": {},
   "source": [
    "### 6. Command Line question :"
   ]
  },
  {
   "cell_type": "markdown",
   "id": "1f178840-350f-4c91-9834-2987453663f2",
   "metadata": {},
   "source": [
    "To solve this task we considered a smaller dataset with just the columns we needed (numPeopleVisited, numPeopleWant and placeAddress).\\\n",
    "We used this dataset as input for our **CommandLine.sh** file"
   ]
  },
  {
   "cell_type": "code",
   "execution_count": 70,
   "id": "5211aa54-9a20-4e9c-92db-943804abaf04",
   "metadata": {},
   "outputs": [
    {
     "data": {
      "text/html": [
       "<div>\n",
       "<style scoped>\n",
       "    .dataframe tbody tr th:only-of-type {\n",
       "        vertical-align: middle;\n",
       "    }\n",
       "\n",
       "    .dataframe tbody tr th {\n",
       "        vertical-align: top;\n",
       "    }\n",
       "\n",
       "    .dataframe thead th {\n",
       "        text-align: right;\n",
       "    }\n",
       "</style>\n",
       "<table border=\"1\" class=\"dataframe\">\n",
       "  <thead>\n",
       "    <tr style=\"text-align: right;\">\n",
       "      <th></th>\n",
       "      <th>numPeopleVisited</th>\n",
       "      <th>numPeopleWant</th>\n",
       "      <th>placeAddress</th>\n",
       "    </tr>\n",
       "  </thead>\n",
       "  <tbody>\n",
       "    <tr>\n",
       "      <th>0</th>\n",
       "      <td>1190</td>\n",
       "      <td>595</td>\n",
       "      <td>Prater 9 Vienna Austria</td>\n",
       "    </tr>\n",
       "    <tr>\n",
       "      <th>1</th>\n",
       "      <td>349</td>\n",
       "      <td>871</td>\n",
       "      <td>Piazza di San Silvestro, 17 Rome, 00187 Italy</td>\n",
       "    </tr>\n",
       "    <tr>\n",
       "      <th>2</th>\n",
       "      <td>331</td>\n",
       "      <td>693</td>\n",
       "      <td>529 North Charles Street Baltimore, Maryland, ...</td>\n",
       "    </tr>\n",
       "    <tr>\n",
       "      <th>3</th>\n",
       "      <td>1136</td>\n",
       "      <td>2170</td>\n",
       "      <td>514 Chartres Street New Orleans, Louisiana, 70...</td>\n",
       "    </tr>\n",
       "  </tbody>\n",
       "</table>\n",
       "</div>"
      ],
      "text/plain": [
       "   numPeopleVisited  numPeopleWant  \\\n",
       "0              1190            595   \n",
       "1               349            871   \n",
       "2               331            693   \n",
       "3              1136           2170   \n",
       "\n",
       "                                        placeAddress  \n",
       "0                            Prater 9 Vienna Austria  \n",
       "1      Piazza di San Silvestro, 17 Rome, 00187 Italy  \n",
       "2  529 North Charles Street Baltimore, Maryland, ...  \n",
       "3  514 Chartres Street New Orleans, Louisiana, 70...  "
      ]
     },
     "execution_count": 70,
     "metadata": {},
     "output_type": "execute_result"
    }
   ],
   "source": [
    "new_df = data [[\"numPeopleVisited\", \"numPeopleWant\",\"placeAddress\"]]\n",
    "new_df.to_csv('_places_data_.csv', encoding=\"utf-8\", index=False, sep=\"\\t\")\n",
    "new_df.head(4)"
   ]
  },
  {
   "cell_type": "code",
   "execution_count": 71,
   "id": "ebce73db-a41f-46cb-9dfb-6d9ed07b931f",
   "metadata": {},
   "outputs": [
    {
     "name": "stdout",
     "output_type": "stream",
     "text": [
      "How many places can be found in Italy? 210 places\n",
      "How many people, on average, have visited the places in Italy? 385.443 people\n",
      "How many people in total want to visit the places in Italy? 183331 people\n",
      "\n",
      "How many places can be found in Spain? 91 places\n",
      "How many people, on average, have visited the places in Spain? 451.582 people\n",
      "How many people in total want to visit the places in Spain? 71714 people\n",
      "\n",
      "How many places can be found in France? 206 places\n",
      "How many people, on average, have visited the places in France? 427.772 people\n",
      "How many people in total want to visit the places in France? 205732 people\n",
      "\n",
      "How many places can be found in England? 366 places\n",
      "How many people, on average, have visited the places in England? 477.795 people\n",
      "How many people in total want to visit the places in England? 390142 people\n",
      "\n",
      "How many places can be found in United States? 4615 places\n",
      "How many people, on average, have visited the places in United States? 438.978 people\n",
      "How many people in total want to visit the places in United States? 4358650 people\n",
      "\n"
     ]
    }
   ],
   "source": [
    "%%sh\n",
    "sh CommandLine.sh"
   ]
  },
  {
   "cell_type": "markdown",
   "id": "49e0f4a9-2139-4da6-a430-b42a8137fbe3",
   "metadata": {},
   "source": [
    "**cut** = command to select parts of lines from a file\\\n",
    "**grep** = command to search for pattern (regular expression) in FILE, used to distinguish the country of places\\\n",
    "**aws** = to sum and compute average over specific column"
   ]
  },
  {
   "cell_type": "code",
   "execution_count": 72,
   "id": "2f5b66b2-1ab5-45e5-9555-b4ea275f7e03",
   "metadata": {},
   "outputs": [
    {
     "name": "stdout",
     "output_type": "stream",
     "text": [
      "#!/bin/sh\n",
      "\n",
      "array=(\"Italy\" \"Spain\" \"France\" \"England\" \"United States\")           # array of countries\n",
      "\n",
      "for val in \"${array[@]}\"; do                                         # interating in array\n",
      "     \n",
      "    output=$(cut -f3 _places_data_.csv | grep \"$val\" | wc -l)        # grep country from 3rd columns of csv and do word count\n",
      "    echo \"How many places can be found in $val? $output places\"      # print result\n",
      "    \n",
      "    output2=$(cut -f1,3 all_places_data.csv | grep \"$val\"| awk -F\",\" '{sum+=$1} END {print sum/NR}') \n",
      "    \n",
      "                                             # grep country then sum over the 1st column (numPeopleVisited) divided by len of records\n",
      "            \n",
      "    echo \"How many people, on average, have visited the places in $val? $output2 people\"          \n",
      "    \n",
      "    output3=$(cut -f2,3 all_places_data.csv | grep \"$val\"| awk -F\",\" '{sum+=$2} END {print sum}')   # grep country and sum over the 2nd column (numPeopleWant)\n",
      "    echo -e \"How many people in total want to visit the places in $val? $output3 people\\n\"          # print result\n",
      "    \n",
      "done\n",
      "\n",
      "\n",
      "\n"
     ]
    }
   ],
   "source": [
    "cat CommandLine.sh"
   ]
  },
  {
   "cell_type": "markdown",
   "id": "326ad3a9",
   "metadata": {},
   "source": [
    "## 7. Theoretical question :"
   ]
  },
  {
   "cell_type": "code",
   "execution_count": null,
   "id": "b431fb01",
   "metadata": {},
   "outputs": [],
   "source": [
    "import random"
   ]
  },
  {
   "cell_type": "markdown",
   "id": "44452944",
   "metadata": {},
   "source": [
    "Define 3 sorting algorithms for the probleme of the ApplicantsInfo.txt, must be given as input the number of people that will apply and their grades, then it will give back the sorted result over their average."
   ]
  },
  {
   "cell_type": "markdown",
   "id": "6982d698",
   "metadata": {},
   "source": [
    "### MergeSort Algorithm :"
   ]
  },
  {
   "cell_type": "code",
   "execution_count": 1,
   "id": "50a1899b",
   "metadata": {},
   "outputs": [],
   "source": [
    "# Sorting algorithm mergesort \n",
    "\n",
    "# Function that check the max between x and y\n",
    "def ismore(x, y):\n",
    "    # The average of y is bigger: so I return false (0)\n",
    "    if x[1] < y[1]: return 0\n",
    "    # The average of y and x is equal, but the name of y comes first in the alphabeth: so I return false\n",
    "    if x[1] == y[1] and x[0] > y[0]: return 0\n",
    "    # If i get to this point x is the max\n",
    "    return 1\n",
    "\n",
    "# Function that merges together two already sorted lists in only one new sorted list \n",
    "def merge(a1, a2):\n",
    "    i = 0 \n",
    "    j = 0 \n",
    "    A = []\n",
    "    # Goes through both lists at the same time and compare the elements, untill I get to the end of one of the two lists\n",
    "    while i<len(a1) and j<len(a2):\n",
    "        # In each iteration append the element that rapresent the highest average\n",
    "        if ismore(a1[i], a2[j]):\n",
    "            A.append(a1[i])\n",
    "            i +=1\n",
    "        else:\n",
    "            A.append(a2[j])\n",
    "            j += 1\n",
    "\n",
    "    # Append the elements still in a1, if there are any       \n",
    "    while i<len(a1):\n",
    "        A.append(a1[i])\n",
    "        i += 1\n",
    "    # Append the elements still in a2, if there are any  \n",
    "    while j<len(a2):\n",
    "        A.append(a2[j])\n",
    "        j += 1\n",
    "    return A\n",
    "\n",
    "\n",
    "# average is going to be a list of touples that have at the first element the full name and in the second element the average grade \n",
    "def mergesort(average):\n",
    "    if len(average) == 1: return average\n",
    "    # Get the middle index (element)\n",
    "    n = len(average)//2\n",
    "    # Get the first n elements\n",
    "    a1 = average[0:n]\n",
    "    # Sort them \n",
    "    a1 = mergesort(a1)\n",
    "    # Get the second n elements\n",
    "    a2 = average[n:]\n",
    "    # Sort them\n",
    "    a2 = mergesort(a2)\n",
    "    # Put everything together with the merge function\n",
    "    return merge(a1, a2)\n"
   ]
  },
  {
   "cell_type": "markdown",
   "id": "6cfe6bb6",
   "metadata": {},
   "source": [
    "#### MergeSort computational cost :\n",
    "\n",
    "The $mergesort$ algorithm here implemented is composed of two main functions:\n",
    "- $mergesort$, with cost $T(n)$\n",
    "- $merge$, with cost $T'(n,m)$\n",
    "\n",
    "The $margesort$ functions divides the list (of length $n$) given in input in two lists (of length $\\frac{n}{2}$), then calls itself on both the smaller lists, to sort them, and to finish put together the two lists of length $\\frac{n}{2}$ with the $merge$ function.\n",
    "$$T(n)=2\\cdot T(\\frac{n}{2}) + T'(\\frac{n}{2},\\frac{n}{2})$$\n",
    "\n",
    "The $merge$ function get as input two sorted lists $l_1$ and $l_2$, of length $n$ and $m$, then goes throught both of them by: \n",
    "1. comparing their elements ${l_1}[i]$ and ${l_2}[j]$\n",
    "2. adding the max between the elements to a new list $A$\n",
    "3. increasing either $i$ or $j$ by one, depending to which I added to $A$\n",
    "\n",
    "After either $i$ gets to $n$ or $j$ to $m$, so all the elements of one of the lists are in $A$, the $merge$ function append to $A$ the rest of the other list.\n",
    "So $merge$ actually just does some costants operation (findind the max and appending) to all the elements of both lists and that implies:\n",
    "$$ T'(n,m) = \\mathcal{O}(n+m) $$\n",
    "\n",
    "So we can conclude that: \n",
    "$$ T(n)=2\\cdot T(\\frac{n}{2}) + T'(\\frac{n}{2},\\frac{n}{2}) =2\\cdot T(\\frac{n}{2}) + \\mathcal{O}(n) = ... = n\\cdot T(1) + \\sum_{i=0}^{log(n)} 2^i\\cdot \\mathcal{O}(\\frac{n}{2^i}) =$$\n",
    "$$ = \\mathcal{O}(n) + \\sum_{i=0}^{log(n)}  \\mathcal{O}(n) = \\mathcal{O}(n\\cdot log(n)) $$"
   ]
  },
  {
   "cell_type": "markdown",
   "id": "c752f7cd",
   "metadata": {},
   "source": [
    "### QuickSort Algorithm :"
   ]
  },
  {
   "cell_type": "code",
   "execution_count": 2,
   "id": "ae729c2e",
   "metadata": {},
   "outputs": [],
   "source": [
    "# Sorting algorithm quicksort \n",
    "\n",
    "#  Function that check if x is under the pivot\n",
    "def less_pivot(x, p):\n",
    "    # The average of x is bigger than the pivot's one: so return false\n",
    "    if x[1] > p[1]: return 0\n",
    "    # The averages are the same, but the name of x comes first in the alphabeth: so return false\n",
    "    if x[1] == p[1] and x[0] < p[0]: return 0\n",
    "    # If I get to this point x is less than the pivot: return true\n",
    "    return 1\n",
    "\n",
    "\n",
    "def quicksort(average):\n",
    "    if len(average) == 0 or len(average) == 1: return average\n",
    "    # Get a random index (element) of the list\n",
    "    p = random.randint(0, len(average)-1)\n",
    "    A = []\n",
    "    B = []\n",
    "    # Divide the list in the ones under the pivot and the one over\n",
    "    for i in range(len(average)):\n",
    "        if i != p and less_pivot(average[i], average[p]):\n",
    "            A.append(average[i])\n",
    "        elif i != p:\n",
    "            B.append(average[i])\n",
    "    # Sort the smaller lists\n",
    "    A = quicksort(A)\n",
    "    B = quicksort(B)\n",
    "    # Put everything together now that the lists are sorted \n",
    "    return B + [average[p]] + A"
   ]
  },
  {
   "cell_type": "markdown",
   "id": "7b3f9d14",
   "metadata": {},
   "source": [
    "#### QuickSort computational cost :\n",
    "\n",
    "The $quicksort$ function takes a list $l$, of length n, as input, then draw a random element from the list and define it as the pivot. The main thing the algoritghm does is devide the list in two smaller lists, one ($A$ of length $k$) where will be stored the elements of $l$ that are smaller than the pivot and the other ($B$ of length $n-k$) for the elements bigger than the pivot, then $quicksort$ call itself on the lists $A$ and $B$. \n",
    "$$ T(n) = T(k) + T(n-k) + \\mathcal{O}(n) $$\n",
    "We can then analyze the best and worst case:\n",
    "- best for $k = \\frac{n}{2}$:\n",
    "$$ T(n) = 2T(\\frac{n}{2})+\\mathcal{O}(n) = ... = n\\cdot T(1) + \\sum_{i=0}^{log(n)} 2^i\\cdot \\mathcal{O}(\\frac{n}{2^i}) = \\mathcal{O}(n\\cdot log(n)) $$\n",
    "- worst with $k = 1$ all the times:\n",
    "$$ T(n) = T(n-1) + \\mathcal{O}(n) = ... = T(1) + \\sum_{i=1}^{n}\\mathcal{O}(i) =  \\mathcal{O}(n^2)$$"
   ]
  },
  {
   "cell_type": "markdown",
   "id": "d68c8fe9",
   "metadata": {},
   "source": [
    "### SelectionSort Algorithm :"
   ]
  },
  {
   "cell_type": "code",
   "execution_count": 3,
   "id": "cf973dca",
   "metadata": {},
   "outputs": [],
   "source": [
    "# Sorting algorithm selectionsort \n",
    "\n",
    "# Function that check the max between x and y\n",
    "def ismore(x, y):\n",
    "    # The average of y is bigger: so I return false (0)\n",
    "    if x[1] < y[1]: return 0\n",
    "    # The average of y and x is equal, but the name of y comes first in the alphabeth: so I return false\n",
    "    if x[1] == y[1] and x[0] > y[0]: return 0\n",
    "    # If i get to this point x is the max\n",
    "    return 1\n",
    "\n",
    "def selectionsort (average):\n",
    "    for i in range(len(average)):\n",
    "        # Initialize the max\n",
    "        max_i = average[i]\n",
    "        idx = i\n",
    "        # Scan the rest of the list to look for something bigger\n",
    "        for j in range(i,len(average)):\n",
    "            if ismore(average[j], max_i) and max_i != average[j]:\n",
    "                # Save the new max and it's index\n",
    "                max_i = average[j]\n",
    "                idx = j\n",
    "        # If the index of the max is not i, I change position between i and the max\n",
    "        if idx != i:\n",
    "            aux = average[i]\n",
    "            average[i] = average[idx]\n",
    "            average[idx] = aux\n",
    "    return average"
   ]
  },
  {
   "cell_type": "markdown",
   "id": "1dcff47d",
   "metadata": {},
   "source": [
    "#### SelectionSort computational cost :\n",
    "\n",
    "The $selectionsort$ is a straight foward algorithm, it looks for the maximum value and put it in the begining of the list, then move to the second bigger element and put it as the second element of the list, and so on. So talking about costs the $selectionsort$ we have:\n",
    "$$T(n)=T(n-1)+\\mathcal{O}(n)=...=\\sum_{i=1}^{n}\\mathcal{O}(i)=\\mathcal{O}(\\frac{n\\cdot (n+1)}{2})=\\mathcal{O}(n^2)$$ "
   ]
  },
  {
   "cell_type": "markdown",
   "id": "cc184701",
   "metadata": {},
   "source": [
    "### Times\n",
    "\n",
    "Let's actually try and time how much each of the sorting algorithms take to sort the ApplicantsInfo list"
   ]
  },
  {
   "cell_type": "code",
   "execution_count": 4,
   "id": "41089829",
   "metadata": {},
   "outputs": [],
   "source": [
    "# Function that print the results of the timing for all the sorting akgorithms\n",
    "def showTimes(mergetime, quicktime, selecttime, applicants):\n",
    "    print('Each method gave the same result, and we can take a look at sorted list. \\nFirst the top 10 averages are:')\n",
    "    for i in applicants[:10]:\n",
    "        print('\\t-'+str(i[0]), i[1])\n",
    "    print('\\nThe last 10 avereges are:')\n",
    "    for i in applicants[-10:]:\n",
    "        print('\\t-'+str(i[0]), i[1])\n",
    "    \n",
    "    print('The time for each algorithm are the following:\\n-', mergetime, 'for the mergesort.\\n-', \n",
    "    quicktime, 'for the quicksort.\\n-', selecttime, 'for the selectionsort.')\n",
    "        "
   ]
  },
  {
   "cell_type": "markdown",
   "id": "97a44e08",
   "metadata": {},
   "source": [
    "First thing we have to read the .txt file"
   ]
  },
  {
   "cell_type": "code",
   "execution_count": null,
   "id": "14d83270",
   "metadata": {},
   "outputs": [],
   "source": [
    "fileAppications = open('./ApplicantsInfo.txt', 'r')\n",
    "Applications = fileAppications.read().splitlines()\n",
    "del fileAppications"
   ]
  },
  {
   "cell_type": "markdown",
   "id": "bc068a6f",
   "metadata": {},
   "source": [
    "Now we can sort the results"
   ]
  },
  {
   "cell_type": "code",
   "execution_count": null,
   "id": "56f82d35",
   "metadata": {},
   "outputs": [],
   "source": [
    "n, m = map(int, Applications[0].split())\n",
    "applicants = []\n",
    "for i in Applications[1:]:\n",
    "    applicant = i.split()\n",
    "    applicants.append((applicant[0]+' '+applicant[1], round(sum([int(applicant[x]) for x in range(2,len(applicant))])/m,2)))\n",
    "\n",
    "#apply and time the mergesort\n",
    "t1 = time.time()\n",
    "MergeAppl = mergesort(applicants)\n",
    "mergetime = time.time() - t1\n",
    "\n",
    "#apply and time the quicksort\n",
    "t1 = time.time()\n",
    "QuickAppl = quicksort(applicants)\n",
    "quicktime = time.time() - t1\n",
    "\n",
    "#apply and time the selectionsort\n",
    "t1 = time.time()\n",
    "SelectAppl = selectionsort(applicants)\n",
    "selecttime = time.time() - t1"
   ]
  },
  {
   "cell_type": "markdown",
   "id": "53f7eee9",
   "metadata": {},
   "source": [
    "And let's see if the results were what we expected and save the sorted list in a .txt file"
   ]
  },
  {
   "cell_type": "code",
   "execution_count": 5,
   "id": "3cdfcd7f",
   "metadata": {},
   "outputs": [],
   "source": [
    "# Save the result for the sort\n",
    "def saveResult(sorted):\n",
    "    with open('RankingList.txt', 'w') as f:\n",
    "        for applicant in sorted:\n",
    "            row = applicant[0] + ' ' + str(applicant[1]) + '\\n'   \n",
    "            f.writelines(row)\n",
    "    return"
   ]
  },
  {
   "cell_type": "code",
   "execution_count": null,
   "id": "53be9d09",
   "metadata": {},
   "outputs": [
    {
     "name": "stdout",
     "output_type": "stream",
     "text": [
      "Each method gave the same result, and we can take a look at sorted list. \n",
      "First the top 10 averages are:\n",
      "\t-Emily Crispin 24.49\n",
      "\t-Patricia Witten 24.49\n",
      "\t-Bruce Johnson 24.45\n",
      "\t-Doreen Richmond 24.45\n",
      "\t-David Niederberger 24.44\n",
      "\t-Keisha Keene 24.44\n",
      "\t-Steven Boston 24.44\n",
      "\t-John Johnson 24.42\n",
      "\t-Marvin Ramirez 24.42\n",
      "\t-Melody Sanchez 24.42\n",
      "\n",
      "The last 10 avereges are:\n",
      "\t-Helen Branch 23.58\n",
      "\t-Max Beck 23.58\n",
      "\t-Ray Bray 23.57\n",
      "\t-Eric Schmidt 23.56\n",
      "\t-Kenneth Marquez 23.56\n",
      "\t-Ruth Watts 23.56\n",
      "\t-Anna Martin 23.55\n",
      "\t-Justin Williams 23.55\n",
      "\t-Bruce Murphy 23.54\n",
      "\t-Mary Thompson 23.51\n",
      "The time for each algorithm are the following:\n",
      "- 0.31357765197753906 for the mergesort.\n",
      "- 0.3477013111114502 for the quicksort.\n",
      "- 193.54548239707947 for the selectionsort.\n"
     ]
    }
   ],
   "source": [
    "# all the same so the sorting is good\n",
    "if SelectAppl==QuickAppl and QuickAppl==MergeAppl:\n",
    "    showTimes(mergetime, quicktime, selecttime, MergeAppl)\n",
    "    saveResult(MergeAppl)"
   ]
  },
  {
   "cell_type": "markdown",
   "id": "dfbdf5bd",
   "metadata": {},
   "source": [
    "From the results is evident that the selectionsort algorithm is not the best when we are working with big numbers. \n",
    "    \n",
    "In our case the length of the applicants list was $50000$ and, while both the quicksort and the mergesort are $\\mathcal{O}(n\\cdot log(n))$, the selectionsort is a $\\mathcal{O}(n^2)$ and that makes a big difference since: \n",
    "    \n",
    "- $n\\cdot ln(n)$ with $n = 50000$ is: $5\\cdot 10^5$\n",
    "- $n^2$ with $n = 50000$ is: $2.5\\cdot 10^9$"
   ]
  }
 ],
 "metadata": {
  "kernelspec": {
   "display_name": "Python 3 (ipykernel)",
   "language": "python",
   "name": "python3"
  },
  "language_info": {
   "codemirror_mode": {
    "name": "ipython",
    "version": 3
   },
   "file_extension": ".py",
   "mimetype": "text/x-python",
   "name": "python",
   "nbconvert_exporter": "python",
   "pygments_lexer": "ipython3",
   "version": "3.9.7"
  },
  "vscode": {
   "interpreter": {
    "hash": "a077222d77dfe082b8f1dd562ad70e458ac2ab76993a0b248ab0476e32e9e8dd"
   }
  }
 },
 "nbformat": 4,
 "nbformat_minor": 5
}
